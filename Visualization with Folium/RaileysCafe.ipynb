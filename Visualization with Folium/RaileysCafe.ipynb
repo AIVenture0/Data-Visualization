{
  "nbformat": 4,
  "nbformat_minor": 0,
  "metadata": {
    "kernelspec": {
      "display_name": "Python 3",
      "language": "python",
      "name": "python3"
    },
    "language_info": {
      "codemirror_mode": {
        "name": "ipython",
        "version": 3
      },
      "file_extension": ".py",
      "mimetype": "text/x-python",
      "name": "python",
      "nbconvert_exporter": "python",
      "pygments_lexer": "ipython3",
      "version": "3.6.0"
    },
    "colab": {
      "name": "RaileysCafe-1531988833151.ipynb",
      "provenance": [],
      "toc_visible": true
    }
  },
  "cells": [
    {
      "cell_type": "markdown",
      "metadata": {
        "id": "OteW83Wvc-yt",
        "colab_type": "text"
      },
      "source": [
        "\n",
        "\n",
        "# <center><font color='blue'>**Data Visualization using Interactive Folium Package**</font></center>\n",
        "\n"
      ]
    },
    {
      "cell_type": "markdown",
      "metadata": {
        "id": "-_Q8K6eqXB7s",
        "colab_type": "text"
      },
      "source": [
        "# 1. Import the required packages"
      ]
    },
    {
      "cell_type": "code",
      "metadata": {
        "id": "kWPhVSUHcQJu",
        "colab_type": "code",
        "colab": {
          "base_uri": "https://localhost:8080/",
          "height": 275
        },
        "outputId": "da9c8f31-6171-4a85-c19a-e8a236ecadd8"
      },
      "source": [
        "# install vincent\n",
        "! pip install vincent"
      ],
      "execution_count": 2,
      "outputs": [
        {
          "output_type": "stream",
          "text": [
            "Collecting vincent\n",
            "  Downloading https://files.pythonhosted.org/packages/11/bf/a12ecaa21a2e376a16de67e09f64a38a4acd95e04e5dc35ad2f13a6f0bfd/vincent-0.4.4.tar.gz\n",
            "Requirement already satisfied: pandas in /usr/local/lib/python3.6/dist-packages (from vincent) (1.0.3)\n",
            "Requirement already satisfied: python-dateutil>=2.6.1 in /usr/local/lib/python3.6/dist-packages (from pandas->vincent) (2.8.1)\n",
            "Requirement already satisfied: numpy>=1.13.3 in /usr/local/lib/python3.6/dist-packages (from pandas->vincent) (1.18.4)\n",
            "Requirement already satisfied: pytz>=2017.2 in /usr/local/lib/python3.6/dist-packages (from pandas->vincent) (2018.9)\n",
            "Requirement already satisfied: six>=1.5 in /usr/local/lib/python3.6/dist-packages (from python-dateutil>=2.6.1->pandas->vincent) (1.12.0)\n",
            "Building wheels for collected packages: vincent\n",
            "  Building wheel for vincent (setup.py) ... \u001b[?25l\u001b[?25hdone\n",
            "  Created wheel for vincent: filename=vincent-0.4.4-cp36-none-any.whl size=35172 sha256=4cfba7ece824411bace9abf42c3726b1d2fe31ebbc6916cb263e2829c5225a8f\n",
            "  Stored in directory: /root/.cache/pip/wheels/4c/0d/8a/65f34c765c6094a71cce3e42a49a26533eef61695e9b505f03\n",
            "Successfully built vincent\n",
            "Installing collected packages: vincent\n",
            "Successfully installed vincent-0.4.4\n"
          ],
          "name": "stdout"
        }
      ]
    },
    {
      "cell_type": "code",
      "metadata": {
        "id": "b9aEzr0TXB7v",
        "colab_type": "code",
        "colab": {}
      },
      "source": [
        "import folium\n",
        "import pandas as pd\n",
        "import vincent\n",
        "#vincent.core.initialize_notebook()"
      ],
      "execution_count": 0,
      "outputs": []
    },
    {
      "cell_type": "markdown",
      "metadata": {
        "id": "nFN3Oh25XB70",
        "colab_type": "text"
      },
      "source": [
        "# 2. Read the CSV file to load the data"
      ]
    },
    {
      "cell_type": "code",
      "metadata": {
        "id": "JMBSlk0AXB73",
        "colab_type": "code",
        "colab": {}
      },
      "source": [
        "rcafe = pd.read_csv('https://raw.githubusercontent.com/AIVenture0/Data-Visualization/master/Visualization%20with%20Folium/railey_india.csv')"
      ],
      "execution_count": 0,
      "outputs": []
    },
    {
      "cell_type": "markdown",
      "metadata": {
        "id": "XRnz9w8MXB77",
        "colab_type": "text"
      },
      "source": [
        "# 3. Check the data"
      ]
    },
    {
      "cell_type": "code",
      "metadata": {
        "id": "02x8yHEAXB79",
        "colab_type": "code",
        "outputId": "0f1add96-68e4-4308-c1a0-ded5d6068172",
        "colab": {
          "base_uri": "https://localhost:8080/",
          "height": 204
        }
      },
      "source": [
        "print(\"Length: \",len(rcafe),'\\n\\n')\n",
        "print(rcafe.head())"
      ],
      "execution_count": 5,
      "outputs": [
        {
          "output_type": "stream",
          "text": [
            "Length:  85 \n",
            "\n",
            "\n",
            "   Store ID                              Name  ... AFF-Sat AFF-Sun\n",
            "0     92040                              Fort  ...     515     385\n",
            "1     92351       Goregaon East - Oberoi Mall  ...     580     389\n",
            "2     92413                            Colaba  ...     585     422\n",
            "3    113991                             Powai  ...     556     373\n",
            "4    114012  Indira Gandhi Itnl Arpt-T3Gate15  ...     528     413\n",
            "\n",
            "[5 rows x 19 columns]\n"
          ],
          "name": "stdout"
        }
      ]
    },
    {
      "cell_type": "markdown",
      "metadata": {
        "id": "agaSsyNuXB8B",
        "colab_type": "text"
      },
      "source": [
        "# 4. Highlight NCR "
      ]
    },
    {
      "cell_type": "code",
      "metadata": {
        "id": "QjQTPAdqXB8D",
        "colab_type": "code",
        "colab": {}
      },
      "source": [
        "ncr_stores = folium.Map(location = [28.7041,77.1025])"
      ],
      "execution_count": 0,
      "outputs": []
    },
    {
      "cell_type": "markdown",
      "metadata": {
        "id": "BQ6gq5_7XB8H",
        "colab_type": "text"
      },
      "source": [
        "# 5. Apply filter logic to check AFF across stores"
      ]
    },
    {
      "cell_type": "code",
      "metadata": {
        "id": "9DuY81PzXB8J",
        "colab_type": "code",
        "colab": {}
      },
      "source": [
        "for index, row in rcafe.iterrows():\n",
        "    lis = [row['AFF-Mon'],row['AFF-Tue'],row['AFF-Wed'],row['AFF-Thu'],row['AFF-Fri'],row['AFF-Sat'],row['AFF-Sun']]\n",
        "    x = range(len(lis))\n",
        "    bar = vincent.Bar(lis,width=440, height=200)\n",
        "    bar.axis_titles(x='Day of Week - '+row['Name'], y='Foot fall')\n",
        "    bar.to_json('vega.json')\n",
        "    popup_ = folium.Popup(max_width=800).add_child(folium.Vega(bar, width=500, height=250))\n",
        "    if sum(lis) > 2700:\n",
        "        folium.Marker([row['Latitude'],row['Longitude']], popup=popup_,icon=folium.Icon(color='green',icon='star')).add_to(ncr_stores)\n",
        "    elif sum(lis) > 2600:\n",
        "        folium.Marker([row['Latitude'],row['Longitude']], popup=popup_,icon=folium.Icon(color='cadetblue',icon='cloud')).add_to(ncr_stores)\n",
        "    else:\n",
        "        folium.Marker([row['Latitude'],row['Longitude']], popup=popup_,icon=folium.Icon(color='red',icon='info-sign')).add_to(ncr_stores)        "
      ],
      "execution_count": 0,
      "outputs": []
    },
    {
      "cell_type": "markdown",
      "metadata": {
        "id": "GXb8zg8bXB8N",
        "colab_type": "text"
      },
      "source": [
        "# 6. Save the report to a HTML file"
      ]
    },
    {
      "cell_type": "code",
      "metadata": {
        "id": "3W7sIFh_XB8Q",
        "colab_type": "code",
        "colab": {}
      },
      "source": [
        "# open this html file in your browser to see the intractive plot.\n",
        "ncr_stores.save('railey_india.html')"
      ],
      "execution_count": 0,
      "outputs": []
    }
  ]
}